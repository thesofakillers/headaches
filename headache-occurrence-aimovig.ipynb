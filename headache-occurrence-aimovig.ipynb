{
 "cells": [
  {
   "cell_type": "code",
   "execution_count": 1,
   "id": "a9fd05d4-926e-4c22-98be-347834e101ce",
   "metadata": {},
   "outputs": [],
   "source": [
    "import pandas as pd\n",
    "import matplotlib.pyplot as plt\n",
    "import seaborn as sns\n",
    "import numpy as np\n",
    "import time\n",
    "\n",
    "pd.set_option('display.max_rows', 100)\n",
    "sns.set_context('notebook')"
   ]
  },
  {
   "cell_type": "code",
   "execution_count": 2,
   "id": "d657f7a0-6517-4410-bea5-08686a08ced2",
   "metadata": {},
   "outputs": [
    {
     "name": "stderr",
     "output_type": "stream",
     "text": [
      "/var/folders/my/lvxg1n852nq3vf2vvjqcrzp80000gn/T/ipykernel_37478/1839680483.py:19: PerformanceWarning: DataFrame is highly fragmented.  This is usually the result of calling `frame.insert` many times, which has poor performance.  Consider joining all columns at once using pd.concat(axis=1) instead. To get a de-fragmented frame, use `newframe = frame.copy()`\n",
      "  daylio[activity] = 0\n",
      "/var/folders/my/lvxg1n852nq3vf2vvjqcrzp80000gn/T/ipykernel_37478/1839680483.py:19: PerformanceWarning: DataFrame is highly fragmented.  This is usually the result of calling `frame.insert` many times, which has poor performance.  Consider joining all columns at once using pd.concat(axis=1) instead. To get a de-fragmented frame, use `newframe = frame.copy()`\n",
      "  daylio[activity] = 0\n",
      "/var/folders/my/lvxg1n852nq3vf2vvjqcrzp80000gn/T/ipykernel_37478/1839680483.py:19: PerformanceWarning: DataFrame is highly fragmented.  This is usually the result of calling `frame.insert` many times, which has poor performance.  Consider joining all columns at once using pd.concat(axis=1) instead. To get a de-fragmented frame, use `newframe = frame.copy()`\n",
      "  daylio[activity] = 0\n",
      "/var/folders/my/lvxg1n852nq3vf2vvjqcrzp80000gn/T/ipykernel_37478/1839680483.py:19: PerformanceWarning: DataFrame is highly fragmented.  This is usually the result of calling `frame.insert` many times, which has poor performance.  Consider joining all columns at once using pd.concat(axis=1) instead. To get a de-fragmented frame, use `newframe = frame.copy()`\n",
      "  daylio[activity] = 0\n"
     ]
    }
   ],
   "source": [
    "def detect_activity(row, activity_list):\n",
    "    new_row = row\n",
    "    mask = [1 if activity in row[\"activities\"] else 0 for activity in activity_list]\n",
    "    new_row[3:] = mask\n",
    "    return new_row\n",
    "\n",
    "daylio = pd.read_csv(\n",
    "    \"data/daylio.csv\",\n",
    "    usecols=[\"full_date\", \"weekday\", \"mood\", \"activities\"],\n",
    "    index_col=\"full_date\",\n",
    "    parse_dates=True,\n",
    ")\n",
    "# parse activities\n",
    "unique_activities = (\n",
    "    daylio[\"activities\"].str.split(r\"\\s*\\|\\s*\", expand=True).stack().unique()\n",
    ")\n",
    "daylio[\"activities\"] = daylio.activities.apply(lambda x: x.split(\" | \"))\n",
    "for activity in unique_activities:\n",
    "    daylio[activity] = 0\n",
    "daylio = daylio.apply(lambda x: detect_activity(x, unique_activities), axis=1)\n",
    "daylio.drop(columns=\"activities\", inplace=True)\n",
    "# convert moods to ordinal\n",
    "mood_map = {\"awful\": -2, \"bad\": -1, \"meh\": 0, \"good\": 1, \"rad\": 2}\n",
    "inv_mood_map = {v:k for k,v in mood_map.items()}\n",
    "daylio.mood =  daylio.mood.map(mood_map)\n",
    "\n",
    "# reverse direction so index 0 is the oldest date\n",
    "daylio = daylio.reindex(index=daylio.index[::-1])"
   ]
  },
  {
   "cell_type": "code",
   "execution_count": 4,
   "id": "3f7e9ae7-8a46-4d00-9fb0-5e631836b9a1",
   "metadata": {},
   "outputs": [],
   "source": [
    "daylio.to_csv(\"/users/thesofakillers/Desktop/daylio.csv\")"
   ]
  },
  {
   "cell_type": "code",
   "execution_count": null,
   "id": "48c938fc-f117-48f6-b060-7a2e1cde46c0",
   "metadata": {},
   "outputs": [],
   "source": []
  }
 ],
 "metadata": {
  "kernelspec": {
   "display_name": "sandbox",
   "language": "python",
   "name": "sandbox"
  },
  "language_info": {
   "codemirror_mode": {
    "name": "ipython",
    "version": 3
   },
   "file_extension": ".py",
   "mimetype": "text/x-python",
   "name": "python",
   "nbconvert_exporter": "python",
   "pygments_lexer": "ipython3",
   "version": "3.9.12"
  }
 },
 "nbformat": 4,
 "nbformat_minor": 5
}
